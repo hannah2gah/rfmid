{
 "cells": [
  {
   "cell_type": "markdown",
   "id": "5a515fa7-2fb5-4791-9ad1-b9a1a6890514",
   "metadata": {
    "jp-MarkdownHeadingCollapsed": true,
    "tags": []
   },
   "source": [
    "# Assign Label"
   ]
  },
  {
   "cell_type": "code",
   "execution_count": null,
   "id": "c21cd6c7-9a8a-4b03-be27-bbdff4f827b3",
   "metadata": {},
   "outputs": [],
   "source": [
    "import os\n",
    "import pandas as pd\n",
    "import matplotlib.pyplot as plt\n",
    "import numpy as np"
   ]
  },
  {
   "cell_type": "code",
   "execution_count": null,
   "id": "dca73bb3-81ac-418e-ae65-34ef695c14b1",
   "metadata": {},
   "outputs": [],
   "source": [
    "import tensorflow as tf\n",
    "from tensorflow import keras\n",
    "from tensorflow.keras.preprocessing.image import img_to_array, load_img\n",
    "from tensorflow.keras.layers import Conv2D, MaxPooling2D, Flatten, Dense, Dropout, InputLayer, GlobalAveragePooling2D\n",
    "from tensorflow.keras.models import Sequential, Model\n",
    "from tensorflow.keras import optimizers\n",
    "from tensorflow.keras.callbacks import ModelCheckpoint, CSVLogger\n",
    "\n",
    "import warnings\n",
    "warnings.filterwarnings(\"ignore\")\n",
    "print(tf.__version__)"
   ]
  },
  {
   "cell_type": "code",
   "execution_count": null,
   "id": "54079c62-a368-4adc-93b3-0c0a9d03c9f0",
   "metadata": {},
   "outputs": [],
   "source": [
    "dir_path = 'D:/TA_Hannah Georgina_1822007/dataset/'\n",
    "results_dir = os.path.join(dir_path, 'logs/InceptionResNet/')\n",
    "models_dir = os.path.join(dir_path, 'models/InceptionResNet/')\n",
    "\n",
    "if not os.path.isdir(results_dir):\n",
    "    os.makedirs(results_dir)\n",
    "    \n",
    "if not os.path.isdir(models_dir):\n",
    "    os.makedirs(models_dir)"
   ]
  },
  {
   "cell_type": "code",
   "execution_count": null,
   "id": "4a31a9d3-615d-4d8f-84d3-cbbc582a5757",
   "metadata": {},
   "outputs": [],
   "source": [
    "# define the location of your dataset\n",
    "TRAIN_PATH = 'D:/TA_Hannah Georgina_1822007/dataset/Training_Set/data_train/'\n",
    "TRAIN_LABEL_PATH = 'D:/TA_Hannah Georgina_1822007/dataset/Training_Set/RFMiD_Training_Labels.csv'\n",
    "\n",
    "VAL_PATH = 'D:/TA_Hannah Georgina_1822007/dataset/Evaluation_Set/data_val/'\n",
    "VAL_LABEL_PATH = 'D:/TA_Hannah Georgina_1822007/dataset/Evaluation_Set/RFMiD_Validation_Labels.csv'\n",
    "\n",
    "IMG_DIM = (299,299)\n",
    "INPUT_SHAPE = (299,299,3)\n",
    "\n",
    "BATCH_SIZE = 32\n",
    "EPOCH = 20\n",
    "x_axis_inc = 1 # for plotting the training acc and loss"
   ]
  },
  {
   "cell_type": "code",
   "execution_count": null,
   "id": "f8d5ca5a-461d-4767-93fa-e4333b2a2356",
   "metadata": {},
   "outputs": [],
   "source": [
    "df = pd.read_csv(TRAIN_LABEL_PATH)\n",
    "data_labels = df[['ID', 'Disease_Risk']]\n",
    "target_labels = data_labels['Disease_Risk']\n",
    "data_labels['image_path'] =  data_labels.apply(lambda row: (TRAIN_PATH + str(row['ID']) + '.png'), axis=1)\n",
    "data_labels.head()"
   ]
  },
  {
   "cell_type": "code",
   "execution_count": null,
   "id": "de0a64b9-cb94-4015-9537-542cfdb8b613",
   "metadata": {},
   "outputs": [],
   "source": [
    "val_df = pd.read_csv(VAL_LABEL_PATH, sep=';')\n",
    "val_labels = val_df[['ID', 'Disease_Risk']]\n",
    "target_val_labels = val_labels['Disease_Risk']\n",
    "val_labels['image_path'] =  val_labels.apply(lambda row: (VAL_PATH + str(row['ID']) + '.png'), axis=1)\n",
    "val_labels.head()"
   ]
  },
  {
   "cell_type": "markdown",
   "id": "96be9f11-bc03-413c-b2bd-c14a3e7801f8",
   "metadata": {
    "jp-MarkdownHeadingCollapsed": true,
    "tags": []
   },
   "source": [
    "# Training Model"
   ]
  },
  {
   "cell_type": "markdown",
   "id": "14734725-9d97-4192-b2ba-9f1922cffdfc",
   "metadata": {
    "tags": []
   },
   "source": [
    "## Prepare Data Training and Validation"
   ]
  },
  {
   "cell_type": "code",
   "execution_count": null,
   "id": "7a206750-e4ec-499d-85ce-79fcc8a197e4",
   "metadata": {},
   "outputs": [],
   "source": [
    "# Load dataset\n",
    "train_data = np.array([img_to_array(load_img(img, target_size=IMG_DIM))\n",
    "                       for img in data_labels['image_path'].values.tolist()]).astype('float32')"
   ]
  },
  {
   "cell_type": "code",
   "execution_count": null,
   "id": "be4f1977-6103-4042-9c95-2738b5dc2965",
   "metadata": {},
   "outputs": [],
   "source": [
    "# Load dataset\n",
    "val_data = np.array([img_to_array(load_img(img, target_size=IMG_DIM))\n",
    "                       for img in val_labels['image_path'].values.tolist()]).astype('float32')"
   ]
  },
  {
   "cell_type": "code",
   "execution_count": null,
   "id": "6cde6a3e-b0bb-4099-bfdf-6fced5723ae6",
   "metadata": {},
   "outputs": [],
   "source": [
    "print('Training and Validation Dataset Size:', train_data.shape, val_data.shape)"
   ]
  },
  {
   "cell_type": "markdown",
   "id": "7653e2a2-b4a6-4504-b0ad-479404994e17",
   "metadata": {
    "tags": []
   },
   "source": [
    "## Prepare for Transfer Learning"
   ]
  },
  {
   "cell_type": "code",
   "execution_count": null,
   "id": "43ea100f-9f79-4e61-ab1e-c6a4ca9b7b36",
   "metadata": {},
   "outputs": [],
   "source": [
    "prep_in = tf.keras.applications.inception_resnet_v2.preprocess_input"
   ]
  },
  {
   "cell_type": "code",
   "execution_count": null,
   "id": "5cdc6026-d6e4-485d-8f8f-48cf56fc98c1",
   "metadata": {},
   "outputs": [],
   "source": [
    "x_train_new = train_data.astype('int')\n",
    "x_val_new = val_data.astype('int')"
   ]
  },
  {
   "cell_type": "code",
   "execution_count": null,
   "id": "44f23edb-1481-4da2-916a-1418ff6caf96",
   "metadata": {},
   "outputs": [],
   "source": [
    "x_train_in = prep_in(x_train_new)\n",
    "x_val_in = prep_in(x_val_new)"
   ]
  },
  {
   "cell_type": "code",
   "execution_count": null,
   "id": "eee26cbf-c89f-47cb-821d-dfbba00b3d6e",
   "metadata": {},
   "outputs": [],
   "source": [
    "train_labels_enc = target_labels.to_numpy()\n",
    "val_labels_enc = target_val_labels.to_numpy()"
   ]
  },
  {
   "cell_type": "code",
   "execution_count": null,
   "id": "081c2743-7da9-4607-8768-5bd50bef629b",
   "metadata": {},
   "outputs": [],
   "source": [
    "# Compare the input value before and after preprocessed\n",
    "x_train_new[0][80:85, 20:25, 0]"
   ]
  },
  {
   "cell_type": "code",
   "execution_count": null,
   "id": "81a19132-4563-4e8e-b361-8c61f5d9885d",
   "metadata": {},
   "outputs": [],
   "source": [
    "x_train_in[0][80:85, 20:25, 0]"
   ]
  },
  {
   "cell_type": "code",
   "execution_count": null,
   "id": "3428b0da-ea3b-48e3-8944-474f6868994b",
   "metadata": {},
   "outputs": [],
   "source": [
    "# Get the VGG16 model so we can do transfer learning\n",
    "base_model = tf.keras.applications.InceptionResNetV2(input_shape=INPUT_SHAPE, include_top=False, weights='imagenet')"
   ]
  },
  {
   "cell_type": "code",
   "execution_count": null,
   "id": "4a95325c-f642-4ea4-834c-b3fdea78ea32",
   "metadata": {},
   "outputs": [],
   "source": [
    "# Let's take a look to see how many Layers are in the base_model\n",
    "print('Number of layers in the base model: ', len(base_model.layers))"
   ]
  },
  {
   "cell_type": "code",
   "execution_count": null,
   "id": "d3df97e2-7700-4d76-a4ba-0334949a7008",
   "metadata": {},
   "outputs": [],
   "source": [
    "pd.set_option('max_colwidth', None)\n",
    "layers = [(layer, layer.name, layer.trainable) for layer in base_model.layers]\n",
    "pd.DataFrame(layers, columns=['Layer Type', 'Layer Name', 'Layer Trainable'])"
   ]
  },
  {
   "cell_type": "markdown",
   "id": "8bf3cea6-18cd-4264-a090-08b79242c074",
   "metadata": {
    "tags": []
   },
   "source": [
    "## Feature Extraction"
   ]
  },
  {
   "cell_type": "code",
   "execution_count": null,
   "id": "df4ab329-e9d4-4422-b2b7-4ad96fcb708a",
   "metadata": {},
   "outputs": [],
   "source": [
    "base_model.trainable = False\n",
    "\n",
    "pd.set_option('max_colwidth', None)\n",
    "layers = [(layer, layer.name, layer.trainable) for layer in base_model.layers[10:]]\n",
    "pd.DataFrame(layers, columns=['Layer Type', 'Layer Name', 'Layer Trainable'])"
   ]
  },
  {
   "cell_type": "code",
   "execution_count": null,
   "id": "53a861af-026c-4784-aaa4-fc53c0e704da",
   "metadata": {},
   "outputs": [],
   "source": [
    "fig_train = 'InceptionResNetV2_C_FE_train'\n",
    "log_file = os.path.join(results_dir, 'InceptionResNetV2_C_FE_train.csv')\n",
    "model_path = os.path.join(models_dir, 'InceptionResNetV2_C_FE.h5')"
   ]
  },
  {
   "cell_type": "code",
   "execution_count": null,
   "id": "c7f4cab7-fbe5-4841-bd4e-d44dffb18b08",
   "metadata": {
    "tags": []
   },
   "outputs": [],
   "source": [
    "# Create a new model on top\n",
    "\n",
    "inputs = tf.keras.Input(shape=INPUT_SHAPE)\n",
    "# We make sure that the base_model is running in inference mode here,\n",
    "# by passing 'training=False'. This is important for fine-tuning\n",
    "x = base_model(inputs, training=False)\n",
    "\n",
    "x = GlobalAveragePooling2D()(x)\n",
    "x = Dense(1024, activation='relu')(x)\n",
    "x = Dropout(0.5)(x)\n",
    "x = Dense(512, activation='relu')(x)\n",
    "\n",
    "# A Dense classifier with a single unit (binary classification)\n",
    "outputs = Dense(1, activation='sigmoid')(x)\n",
    "model = Model(inputs, outputs)"
   ]
  },
  {
   "cell_type": "code",
   "execution_count": null,
   "id": "f092eeac-c3eb-48ac-aaa5-93fbbb4f4295",
   "metadata": {},
   "outputs": [],
   "source": [
    "pd.set_option('max_colwidth', None)\n",
    "layers = [(layer, layer.name, layer.trainable) for layer in model.layers]\n",
    "pd.DataFrame(layers, columns=['Layer Type', 'Layer Name', 'Layer Trainable'])"
   ]
  },
  {
   "cell_type": "code",
   "execution_count": null,
   "id": "07bb6a2c-b640-4aa1-96e3-5217fd052142",
   "metadata": {},
   "outputs": [],
   "source": [
    "model.summary()"
   ]
  },
  {
   "cell_type": "code",
   "execution_count": null,
   "id": "f3fc77fe-08b7-4add-b618-2fb2af65a543",
   "metadata": {},
   "outputs": [],
   "source": [
    "callbacks = [CSVLogger(log_file), ModelCheckpoint(filepath=model_path, monitor='val_binary_accuracy', mode='max', \n",
    "                                                  save_best_only=True, verbose=0)]"
   ]
  },
  {
   "cell_type": "code",
   "execution_count": null,
   "id": "0f9f7379-9ff6-4e55-902c-6add9863ef7e",
   "metadata": {},
   "outputs": [],
   "source": [
    "# More recommend way\n",
    "model.compile(loss=keras.losses.BinaryCrossentropy(from_logits=True),\n",
    "              optimizer= keras.optimizers.RMSprop(lr=1e-3),\n",
    "              metrics = [keras.metrics.BinaryAccuracy()])"
   ]
  },
  {
   "cell_type": "code",
   "execution_count": null,
   "id": "d7cac0c2-106e-40d3-b26e-d8f608bf0593",
   "metadata": {},
   "outputs": [],
   "source": [
    "history = model.fit(x=x_train_in, y=train_labels_enc,\n",
    "                    validation_data=(x_val_in, val_labels_enc),\n",
    "                    epochs=EPOCH, verbose=1, callbacks=callbacks)"
   ]
  },
  {
   "cell_type": "code",
   "execution_count": null,
   "id": "fc2fb129-fb2d-4aac-b2da-e8acf78efa5b",
   "metadata": {},
   "outputs": [],
   "source": [
    "history_dict = history.history\n",
    "history_dict.keys()"
   ]
  },
  {
   "cell_type": "code",
   "execution_count": null,
   "id": "08b05b8b-97e1-4ad4-99c1-30a1adf48b28",
   "metadata": {},
   "outputs": [],
   "source": [
    "epoch_list = list(range(1,EPOCH+1))\n",
    "y_train_acc = history.history['binary_accuracy']\n",
    "y_val_acc = history.history['val_binary_accuracy']\n",
    "y_train_loss = history.history['loss']\n",
    "y_val_loss = history.history['val_loss']\n",
    "\n",
    "f, (ax1, ax2) = plt.subplots(1, 2, figsize=(14,4))\n",
    "t = f.suptitle('Pre-Trained InceptionResNetV2-C (Feature Extraction) Performance', fontsize=12)\n",
    "f.subplots_adjust(top=0.85, wspace=0.3)\n",
    "\n",
    "ax1.plot(epoch_list, y_train_acc, label='Train Accuracy')\n",
    "ax1.plot(epoch_list, y_val_acc, label='Validation Accuracy')\n",
    "ax1.set_xticks(np.arange(0, EPOCH+1, x_axis_inc))\n",
    "ax1.set_ylim(0.4,1)\n",
    "ax1.set_ylabel('Accuracy Value')\n",
    "ax1.set_xlabel('Epoch')\n",
    "ax1.set_title('Accuracy')\n",
    "l1 = ax1.legend(loc='best')\n",
    "\n",
    "ax2.plot(epoch_list, y_train_loss, label='Train Loss')\n",
    "ax2.plot(epoch_list, y_val_loss, label='Validation Loss')\n",
    "ax2.set_xticks(np.arange(0, EPOCH+1, x_axis_inc))\n",
    "ax2.set_ylim(0,1)\n",
    "ax2.set_ylabel('Cross Entropy')\n",
    "ax2.set_xlabel('Epoch')\n",
    "ax2.set_title('Loss')\n",
    "l1 = ax2.legend(loc='best')"
   ]
  },
  {
   "cell_type": "markdown",
   "id": "3d444695-5a00-42bc-aff3-01293e9f28e3",
   "metadata": {
    "tags": []
   },
   "source": [
    "## Fine Tuning-1"
   ]
  },
  {
   "cell_type": "code",
   "execution_count": null,
   "id": "f7b701a6-c095-447c-bd3a-5a2e92fafe03",
   "metadata": {},
   "outputs": [],
   "source": [
    "# Fine tune from this layer onwards, 1/5 of total layers\n",
    "fine_tune_at = 170\n",
    "\n",
    "# Freeze all the layers before the 'fine_tune_at' layer\n",
    "for layer in base_model.layers[:fine_tune_at]:\n",
    "    layer.trainable = False"
   ]
  },
  {
   "cell_type": "code",
   "execution_count": null,
   "id": "ea28a4f1-d266-4bac-afaa-a8401eaf9cf4",
   "metadata": {},
   "outputs": [],
   "source": [
    "# Let's check whether the layers are already trainable\n",
    "pd.set_option('max_colwidth', None)\n",
    "layers = [(layer, layer.name, layer.trainable) for layer in base_model.layers[13:]]\n",
    "pd.DataFrame(layers, columns=['Layer Type', 'Layer Name', 'Layer Trainable'])"
   ]
  },
  {
   "cell_type": "code",
   "execution_count": null,
   "id": "c57734fb-6dae-44d0-98cc-34b5f03d8d1a",
   "metadata": {},
   "outputs": [],
   "source": [
    "fig_train2 = 'InceptionResNetV2_C_FT1_train'\n",
    "log_file2 = os.path.join(results_dir, 'InceptionResNetV2_C_FT1_train.csv')\n",
    "model_path2 = os.path.join(models_dir, 'InceptionResNetV2_C_FT1.h5')"
   ]
  },
  {
   "cell_type": "code",
   "execution_count": null,
   "id": "a5230d44-dd97-4597-a297-4cee84492003",
   "metadata": {},
   "outputs": [],
   "source": [
    "# Create a new model on top\n",
    "\n",
    "inputs = tf.keras.Input(shape=INPUT_SHAPE)\n",
    "# We make sure that the base_model is running in inference mode here,\n",
    "# by passing 'training=False'. This is important for fine-tuning\n",
    "x = base_model(inputs, training=False)\n",
    "\n",
    "x = GlobalAveragePooling2D()(x)\n",
    "x = Dense(1024, activation='relu')(x)\n",
    "x = Dropout(0.5)(x)\n",
    "x = Dense(512, activation='relu')(x)\n",
    "\n",
    "# A Dense classifier with a single unit (binary classification)\n",
    "outputs = Dense(1, activation='sigmoid')(x)\n",
    "model = Model(inputs, outputs)"
   ]
  },
  {
   "cell_type": "code",
   "execution_count": null,
   "id": "fadd34a4-9327-409a-8326-c5b90f3b52ce",
   "metadata": {},
   "outputs": [],
   "source": [
    "model.summary()"
   ]
  },
  {
   "cell_type": "code",
   "execution_count": null,
   "id": "edee28e0-ea9e-4c3c-a88e-5dd11be42d9c",
   "metadata": {},
   "outputs": [],
   "source": [
    "pd.set_option('max_colwidth', None)\n",
    "layers = [(layer, layer.name, layer.trainable) for layer in model.layers]\n",
    "pd.DataFrame(layers, columns=['Layer Type', 'Layer Name', 'Layer Trainable'])"
   ]
  },
  {
   "cell_type": "code",
   "execution_count": null,
   "id": "2bdab764-906d-49c1-9372-40e849165d38",
   "metadata": {},
   "outputs": [],
   "source": [
    "callbacks = [CSVLogger(log_file2), ModelCheckpoint(filepath=model_path2, monitor='val_binary_accuracy', mode='max'\n",
    "                                                   ,save_best_only=True, verbose=0)]"
   ]
  },
  {
   "cell_type": "code",
   "execution_count": null,
   "id": "81fc4b87-8dae-4c42-89c4-14855ccdea33",
   "metadata": {},
   "outputs": [],
   "source": [
    "# More recommend way\n",
    "model.compile(loss=keras.losses.BinaryCrossentropy(from_logits=True),\n",
    "              optimizer= keras.optimizers.RMSprop(lr=1e-4),\n",
    "              metrics = [keras.metrics.BinaryAccuracy()])"
   ]
  },
  {
   "cell_type": "code",
   "execution_count": null,
   "id": "cfbab7e8-0f37-4d11-96e1-db04a2f58457",
   "metadata": {},
   "outputs": [],
   "source": [
    "history2 = model.fit(x=x_train_in, y=train_labels_enc,\n",
    "                    validation_data=(x_val_in, val_labels_enc),\n",
    "                    epochs=EPOCH, verbose=1, callbacks=callbacks)"
   ]
  },
  {
   "cell_type": "code",
   "execution_count": null,
   "id": "aa112338-7ba9-4188-a18c-6e3a715f5c55",
   "metadata": {},
   "outputs": [],
   "source": [
    "epoch_list = list(range(1,EPOCH+1))\n",
    "y_train_acc = history2.history['binary_accuracy']\n",
    "y_val_acc = history2.history['val_binary_accuracy']\n",
    "y_train_loss = history2.history['loss']\n",
    "y_val_loss = history2.history['val_loss']\n",
    "\n",
    "f, (ax1, ax2) = plt.subplots(1, 2, figsize=(14,4))\n",
    "t = f.suptitle('Pre-Trained InceptionResNetV2-C (Fine Tuning-1) Performance', fontsize=12)\n",
    "f.subplots_adjust(top=0.85, wspace=0.3)\n",
    "\n",
    "ax1.plot(epoch_list, y_train_acc, label='Train Accuracy')\n",
    "ax1.plot(epoch_list, y_val_acc, label='Validation Accuracy')\n",
    "ax1.set_xticks(np.arange(0, EPOCH+1, x_axis_inc))\n",
    "ax1.set_ylim(0.4,1)\n",
    "ax1.set_ylabel('Accuracy Value')\n",
    "ax1.set_xlabel('Epoch')\n",
    "ax1.set_title('Accuracy')\n",
    "l1 = ax1.legend(loc='best')\n",
    "\n",
    "ax2.plot(epoch_list, y_train_loss, label='Train Loss')\n",
    "ax2.plot(epoch_list, y_val_loss, label='Validation Loss')\n",
    "ax2.set_xticks(np.arange(0, EPOCH+1, x_axis_inc))\n",
    "ax2.set_ylim(0,1)\n",
    "ax2.set_ylabel('Cross Entropy')\n",
    "ax2.set_xlabel('Epoch')\n",
    "ax2.set_title('Loss')\n",
    "l1 = ax2.legend(loc='best')"
   ]
  },
  {
   "cell_type": "markdown",
   "id": "b8325838-4c7b-4177-aad2-3c1d87c78aa2",
   "metadata": {
    "tags": []
   },
   "source": [
    "## Fine Tuning 2"
   ]
  },
  {
   "cell_type": "code",
   "execution_count": null,
   "id": "3ad8a576-c761-4327-8004-a8dd2885d091",
   "metadata": {},
   "outputs": [],
   "source": [
    "# Fine tune from this layer onwards, 1/5 of total layers\n",
    "fine_tune_at = 11\n",
    "\n",
    "# Freeze all the layers before the 'fine_tune_at' layer\n",
    "for layer in base_model.layers[:fine_tune_at]:\n",
    "    layer.trainable = False"
   ]
  },
  {
   "cell_type": "code",
   "execution_count": null,
   "id": "87bc3694-7568-4cde-90c6-bebe71b88f55",
   "metadata": {},
   "outputs": [],
   "source": [
    "# Let's check whether the layers are already trainable\n",
    "pd.set_option('max_colwidth', None)\n",
    "layers = [(layer, layer.name, layer.trainable) for layer in base_model.layers[10:]]\n",
    "pd.DataFrame(layers, columns=['Layer Type', 'Layer Name', 'Layer Trainable'])"
   ]
  },
  {
   "cell_type": "code",
   "execution_count": null,
   "id": "f7fe3da8-ce5a-4bbe-a4f0-6c073a2a4c77",
   "metadata": {},
   "outputs": [],
   "source": [
    "fig_train3 = 'InceptionResNetV2_C_FT2_train'\n",
    "log_file3 = os.path.join(results_dir, 'InceptionResNetV2_C_FT2_train.csv')\n",
    "model_path3 = os.path.join(models_dir, 'InceptionResNetV2_C_FT2.h5')"
   ]
  },
  {
   "cell_type": "code",
   "execution_count": null,
   "id": "38f2eb7f-f2f1-4848-b82d-f0c235ca587a",
   "metadata": {},
   "outputs": [],
   "source": [
    "# Create a new model on top\n",
    "\n",
    "inputs = tf.keras.Input(shape=INPUT_SHAPE)\n",
    "# We make sure that the base_model is running in inference mode here,\n",
    "# by passing 'training=False'. This is important for fine-tuning\n",
    "x = base_model(inputs, training=False)\n",
    "\n",
    "x = GlobalAveragePooling2D()(x)\n",
    "x = Dense(1024, activation='relu')(x)\n",
    "x = Dropout(0.5)(x)\n",
    "x = Dense(512, activation='relu')(x)\n",
    "\n",
    "# A Dense classifier with a single unit (binary classification)\n",
    "outputs = Dense(1, activation='sigmoid')(x)\n",
    "model = Model(inputs, outputs)"
   ]
  },
  {
   "cell_type": "code",
   "execution_count": null,
   "id": "f40ccdf6-0ade-4a7c-808d-5f7e503ebd57",
   "metadata": {},
   "outputs": [],
   "source": [
    "model.summary()"
   ]
  },
  {
   "cell_type": "code",
   "execution_count": null,
   "id": "b1054311-55dd-4727-84af-ab235cb07e35",
   "metadata": {},
   "outputs": [],
   "source": [
    "pd.set_option('max_colwidth', None)\n",
    "layers = [(layer, layer.name, layer.trainable) for layer in model.layers]\n",
    "pd.DataFrame(layers, columns=['Layer Type', 'Layer Name', 'Layer Trainable'])"
   ]
  },
  {
   "cell_type": "code",
   "execution_count": null,
   "id": "5f7f98ee-6624-4e59-9e13-96963769c3af",
   "metadata": {},
   "outputs": [],
   "source": [
    "callbacks = [CSVLogger(log_file3), ModelCheckpoint(filepath=model_path3, monitor='val_binary_accuracy', mode='max', \n",
    "                                                  save_best_only=True, verbose=0)]"
   ]
  },
  {
   "cell_type": "code",
   "execution_count": null,
   "id": "a294e403-209b-46d5-8fd2-b5edd13b22b0",
   "metadata": {},
   "outputs": [],
   "source": [
    "# More recommend way\n",
    "model.compile(loss=keras.losses.BinaryCrossentropy(from_logits=True),\n",
    "              optimizer= keras.optimizers.RMSprop(lr=1e-5),\n",
    "              metrics = [keras.metrics.BinaryAccuracy()])"
   ]
  },
  {
   "cell_type": "code",
   "execution_count": null,
   "id": "c5f32d98-4b38-40d4-8e9f-27d91de82715",
   "metadata": {},
   "outputs": [],
   "source": [
    "history3 = model.fit(x=x_train_in, y=train_labels_enc,\n",
    "                    validation_data=(x_val_in, val_labels_enc),\n",
    "                    epochs=EPOCH,verbose=1, callbacks=callbacks)"
   ]
  },
  {
   "cell_type": "code",
   "execution_count": null,
   "id": "9be46967-2c79-4e54-ad22-6230563a8aae",
   "metadata": {},
   "outputs": [],
   "source": [
    "epoch_list = list(range(1,EPOCH+1))\n",
    "y_train_acc = history3.history['binary_accuracy']\n",
    "y_val_acc = history3.history['val_binary_accuracy']\n",
    "y_train_loss = history3.history['loss']\n",
    "y_val_loss = history3.history['val_loss']\n",
    "\n",
    "f, (ax1, ax2) = plt.subplots(1, 2, figsize=(14,4))\n",
    "t = f.suptitle('Pre-Trained InceptionResNetV2-C (Fine Tuning-2) Performance', fontsize=12)\n",
    "f.subplots_adjust(top=0.85, wspace=0.3)\n",
    "\n",
    "ax1.plot(epoch_list, y_train_acc, label='Train Accuracy')\n",
    "ax1.plot(epoch_list, y_val_acc, label='Validation Accuracy')\n",
    "ax1.set_xticks(np.arange(0, EPOCH+1, x_axis_inc))\n",
    "ax1.set_ylim(0.4,1)\n",
    "ax1.set_ylabel('Accuracy Value')\n",
    "ax1.set_xlabel('Epoch')\n",
    "ax1.set_title('Accuracy')\n",
    "l1 = ax1.legend(loc='best')\n",
    "\n",
    "ax2.plot(epoch_list, y_train_loss, label='Train Loss')\n",
    "ax2.plot(epoch_list, y_val_loss, label='Validation Loss')\n",
    "ax2.set_xticks(np.arange(0, EPOCH+1, x_axis_inc))\n",
    "ax2.set_ylim(0,1)\n",
    "ax2.set_ylabel('Cross Entropy')\n",
    "ax2.set_xlabel('Epoch')\n",
    "ax2.set_title('Loss')\n",
    "l1 = ax2.legend(loc='best')"
   ]
  },
  {
   "cell_type": "markdown",
   "id": "8feeb8c2-6963-4ae6-b973-1485b0414895",
   "metadata": {},
   "source": [
    "## Fine Tuning 3"
   ]
  },
  {
   "cell_type": "code",
   "execution_count": null,
   "id": "53493638-a35d-4a0d-861e-acb0ce21f94c",
   "metadata": {},
   "outputs": [],
   "source": [
    "# Fine tune from this layer onwards, 1/5 of total layers\n",
    "fine_tune_at = 11\n",
    "\n",
    "# Freeze all the layers before the 'fine_tune_at' layer\n",
    "for layer in base_model.layers[:fine_tune_at]:\n",
    "    layer.trainable = False"
   ]
  },
  {
   "cell_type": "code",
   "execution_count": null,
   "id": "6c8d1987-a488-436d-8932-876a0309c792",
   "metadata": {},
   "outputs": [],
   "source": [
    "# Let's check whether the layers are already trainable\n",
    "pd.set_option('max_colwidth', None)\n",
    "layers = [(layer, layer.name, layer.trainable) for layer in base_model.layers[10:]]\n",
    "pd.DataFrame(layers, columns=['Layer Type', 'Layer Name', 'Layer Trainable'])"
   ]
  },
  {
   "cell_type": "code",
   "execution_count": null,
   "id": "f663b276-253c-4304-b0f1-86b71bb0cd2f",
   "metadata": {},
   "outputs": [],
   "source": [
    "fig_train4 = 'InceptionResNetV2_C_FT3_train'\n",
    "log_file4 = os.path.join(results_dir, 'InceptionResNetV2_C_FT3_train.csv')\n",
    "model_path4 = os.path.join(models_dir, 'InceptionResNetV2_C_FT3.h5')"
   ]
  },
  {
   "cell_type": "code",
   "execution_count": null,
   "id": "86e7a01c-5ba4-47d4-93bd-457cdede5485",
   "metadata": {},
   "outputs": [],
   "source": [
    "# Create a new model on top\n",
    "\n",
    "inputs = tf.keras.Input(shape=INPUT_SHAPE)\n",
    "# We make sure that the base_model is running in inference mode here,\n",
    "# by passing 'training=False'. This is important for fine-tuning\n",
    "x = base_model(inputs, training=False)\n",
    "\n",
    "x = GlobalAveragePooling2D()(x)\n",
    "x = Dense(1024, activation='relu')(x)\n",
    "x = Dropout(0.5)(x)\n",
    "x = Dense(512, activation='relu')(x)\n",
    "\n",
    "# A Dense classifier with a single unit (binary classification)\n",
    "outputs = Dense(1, activation='sigmoid')(x)\n",
    "model = Model(inputs, outputs)"
   ]
  },
  {
   "cell_type": "code",
   "execution_count": null,
   "id": "792e9dcd-f883-4aa9-958d-bf828292fe3b",
   "metadata": {},
   "outputs": [],
   "source": [
    "callbacks = [CSVLogger(log_file4), ModelCheckpoint(filepath=model_path4, monitor='val_binary_accuracy', mode='max', \n",
    "                                                  save_best_only=True, verbose=0)]"
   ]
  },
  {
   "cell_type": "code",
   "execution_count": null,
   "id": "fead271e-f267-4dfc-ac3b-df72de4d0ce5",
   "metadata": {},
   "outputs": [],
   "source": [
    "# More recommend way\n",
    "model.compile(loss=keras.losses.BinaryCrossentropy(from_logits=True),\n",
    "              optimizer= keras.optimizers.RMSprop(lr=1e-5),\n",
    "              metrics = [keras.metrics.BinaryAccuracy()])"
   ]
  },
  {
   "cell_type": "code",
   "execution_count": null,
   "id": "02dad87b-1196-4a05-bf47-932aa12ae363",
   "metadata": {},
   "outputs": [],
   "source": [
    "history4 = model.fit(x=x_train_in, y=train_labels_enc,\n",
    "                    validation_data=(x_val_in, val_labels_enc),\n",
    "                    epochs=EPOCH,verbose=1, callbacks=callbacks)"
   ]
  },
  {
   "cell_type": "code",
   "execution_count": null,
   "id": "fc48d523-c624-42ea-b132-e4b5b401f92b",
   "metadata": {},
   "outputs": [],
   "source": [
    "epoch_list = list(range(1,EPOCH+1))\n",
    "y_train_acc = history4.history['binary_accuracy']\n",
    "y_val_acc = history4.history['val_binary_accuracy']\n",
    "y_train_loss = history4.history['loss']\n",
    "y_val_loss = history4.history['val_loss']\n",
    "\n",
    "f, (ax1, ax2) = plt.subplots(1, 2, figsize=(14,4))\n",
    "t = f.suptitle('Pre-Trained InceptionResNetV2-C (Fine Tuning-3) with Augmentation Performance', fontsize=12)\n",
    "f.subplots_adjust(top=0.85, wspace=0.3)\n",
    "\n",
    "ax1.plot(epoch_list, y_train_acc, label='Train Accuracy')\n",
    "ax1.plot(epoch_list, y_val_acc, label='Validation Accuracy')\n",
    "ax1.set_xticks(np.arange(0, EPOCH+1, x_axis_inc))\n",
    "ax1.set_ylim(0.4,1)\n",
    "ax1.set_ylabel('Accuracy Value')\n",
    "ax1.set_xlabel('Epoch')\n",
    "ax1.set_title('Accuracy')\n",
    "l1 = ax1.legend(loc='best')\n",
    "\n",
    "ax2.plot(epoch_list, y_train_loss, label='Train Loss')\n",
    "ax2.plot(epoch_list, y_val_loss, label='Validation Loss')\n",
    "ax2.set_xticks(np.arange(0, EPOCH+1, x_axis_inc))\n",
    "ax2.set_ylim(0,1)\n",
    "ax2.set_ylabel('Cross Entropy')\n",
    "ax2.set_xlabel('Epoch')\n",
    "ax2.set_title('Loss')\n",
    "l1 = ax2.legend(loc='best')"
   ]
  },
  {
   "cell_type": "markdown",
   "id": "2a094677-9283-4a7d-9a51-2476d4638337",
   "metadata": {
    "tags": []
   },
   "source": [
    "# Testing Model"
   ]
  },
  {
   "cell_type": "code",
   "execution_count": null,
   "id": "969f36a9-e350-484f-a0bb-71dd8ae968d4",
   "metadata": {},
   "outputs": [],
   "source": [
    "from sklearn.metrics import roc_curve, auc\n",
    "from tensorflow.keras.models import load_model\n",
    "import model_utils as mu"
   ]
  },
  {
   "cell_type": "code",
   "execution_count": null,
   "id": "2046e025-8234-4c5b-907b-d629e51431c6",
   "metadata": {},
   "outputs": [],
   "source": [
    "TEST_PATH = 'D:/TA_Hannah Georgina_1822007/dataset/Test_Set/data_test/'\n",
    "TEST_LABEL_PATH = 'D:/TA_Hannah Georgina_1822007/dataset/Test_Set/RFMiD_Testing_Labels.csv'\n",
    "\n",
    "MODEL_PATH = 'D:/TA_Hannah Georgina_1822007/dataset/models/InceptionResNet/'\n",
    "\n",
    "IMG_DIM = (299,299)"
   ]
  },
  {
   "cell_type": "code",
   "execution_count": null,
   "id": "7aa6046e-243a-4184-bb85-782603772aa0",
   "metadata": {},
   "outputs": [],
   "source": [
    "test_df = pd.read_csv(TEST_LABEL_PATH)\n",
    "test_labels = test_df[['ID', 'Disease_Risk']]\n",
    "target_test_labels = test_labels['Disease_Risk']\n",
    "test_labels['image_path'] =  test_labels.apply(lambda row: (TEST_PATH + str(row['ID']) + '.png'), axis=1)\n",
    "test_labels.head()"
   ]
  },
  {
   "cell_type": "code",
   "execution_count": null,
   "id": "d79a9c92-1822-43eb-bd38-05ec33741893",
   "metadata": {},
   "outputs": [],
   "source": [
    "# Load test dataset\n",
    "test_data = np.array([img_to_array(load_img(img, target_size=IMG_DIM))\n",
    "                       for img in test_labels['image_path'].values.tolist()]).astype('float32')"
   ]
  },
  {
   "cell_type": "code",
   "execution_count": null,
   "id": "2dfb9a20-26e2-4a46-b015-1a60f510010c",
   "metadata": {},
   "outputs": [],
   "source": [
    "print('Testing Dataset Size:', test_data.shape)"
   ]
  },
  {
   "cell_type": "code",
   "execution_count": null,
   "id": "3cd40915-9528-47e7-a57e-db63526b58fb",
   "metadata": {},
   "outputs": [],
   "source": [
    "x_test_new = test_data.astype('int')"
   ]
  },
  {
   "cell_type": "code",
   "execution_count": null,
   "id": "03a7630c-a679-4ab2-b81f-4fa040e7873f",
   "metadata": {},
   "outputs": [],
   "source": [
    "x_test_in = prep_in(x_test_new)"
   ]
  },
  {
   "cell_type": "code",
   "execution_count": null,
   "id": "94681db6-64d2-4b19-a81c-9401ea34f6d8",
   "metadata": {},
   "outputs": [],
   "source": [
    "test_labels_enc = target_test_labels.to_numpy()"
   ]
  },
  {
   "cell_type": "markdown",
   "id": "f1506916-423f-4750-8328-7718dff71ed0",
   "metadata": {
    "tags": []
   },
   "source": [
    "## Feature Extraction Model"
   ]
  },
  {
   "cell_type": "code",
   "execution_count": null,
   "id": "28d25659-246d-45b0-b910-0ae3ba721758",
   "metadata": {},
   "outputs": [],
   "source": [
    "model_fe = os.path.join(MODEL_PATH, 'InceptionResNetV2_C_FE.h5')"
   ]
  },
  {
   "cell_type": "code",
   "execution_count": null,
   "id": "1ec7d119-34fe-4ef2-96ca-bf173c38b764",
   "metadata": {},
   "outputs": [],
   "source": [
    "model1 = load_model(model_fe)"
   ]
  },
  {
   "cell_type": "code",
   "execution_count": null,
   "id": "c13eab14-8c87-449b-87b2-46438f533002",
   "metadata": {},
   "outputs": [],
   "source": [
    "model1.summary()"
   ]
  },
  {
   "cell_type": "code",
   "execution_count": null,
   "id": "d3796f33-d7b7-49c3-b984-0f5ca3ee245a",
   "metadata": {},
   "outputs": [],
   "source": [
    "#predict the probability across all output classes\n",
    "prob = model1.predict(x_test_in)\n",
    "yhat1 = (prob > 0.5).astype('int')\n",
    "yhat_p = prob[:, prob.shape[1]-1]"
   ]
  },
  {
   "cell_type": "code",
   "execution_count": null,
   "id": "fc91c1ab-4abd-4932-b6bb-386bd5a2a0f1",
   "metadata": {},
   "outputs": [],
   "source": [
    "df_fe= mu.prob_csv(test_labels_enc, prob, head_model='InceptionResNetV2_C_FE')\n",
    "df_fe.head()"
   ]
  },
  {
   "cell_type": "code",
   "execution_count": null,
   "id": "bd75a533-28f3-4b0e-a945-fb75aac39d36",
   "metadata": {},
   "outputs": [],
   "source": [
    "acc_a_fe, prec_a_fe, rec_a_fe, f1_a_fe, cm_a_fe = mu.test_model(target_test_labels, yhat1)"
   ]
  },
  {
   "cell_type": "code",
   "execution_count": null,
   "id": "b27fab25-788c-4634-9cee-8e36a76f80f6",
   "metadata": {},
   "outputs": [],
   "source": [
    "fpr1, tpr1, _ = roc_curve(target_test_labels, yhat_p)\n",
    "auroc1 = auc(fpr1, tpr1)\n",
    "print(auroc1)"
   ]
  },
  {
   "cell_type": "markdown",
   "id": "50180eb4-31df-48f9-8b64-21e1d3a0b493",
   "metadata": {
    "tags": []
   },
   "source": [
    "## Fine Tuning 1"
   ]
  },
  {
   "cell_type": "code",
   "execution_count": null,
   "id": "1a68a171-bef2-41eb-b120-363632aa560d",
   "metadata": {},
   "outputs": [],
   "source": [
    "model_ft1 = os.path.join(MODEL_PATH, 'InceptionResNetV2_C_FT1.h5')"
   ]
  },
  {
   "cell_type": "code",
   "execution_count": null,
   "id": "f1fd2aad-ac52-4d71-b942-ee199f84211e",
   "metadata": {},
   "outputs": [],
   "source": [
    "model2 = load_model(model_ft1)"
   ]
  },
  {
   "cell_type": "code",
   "execution_count": null,
   "id": "ca284926-e35e-44b8-b73d-48111ff20308",
   "metadata": {},
   "outputs": [],
   "source": [
    "model2.summary()"
   ]
  },
  {
   "cell_type": "code",
   "execution_count": null,
   "id": "de7a1311-ce77-4e70-918c-ecd09499f4c0",
   "metadata": {},
   "outputs": [],
   "source": [
    "#predict the probability across all output classes\n",
    "prob2 = model2.predict(x_test_in)\n",
    "yhat2 = (prob2 > 0.5).astype('int')\n",
    "yhat_p2 = prob2[:, prob2.shape[1]-1]"
   ]
  },
  {
   "cell_type": "code",
   "execution_count": null,
   "id": "83a2e5e1-78a8-4a13-bec9-7fe4f2e46cbd",
   "metadata": {},
   "outputs": [],
   "source": [
    "df_fe= mu.prob_csv(test_labels_enc, prob2, head_model='InceptionResNetV2_C_FT1')\n",
    "df_fe.head()"
   ]
  },
  {
   "cell_type": "code",
   "execution_count": null,
   "id": "b5d4119e-c705-4ad9-9927-d7414696d9ee",
   "metadata": {},
   "outputs": [],
   "source": [
    "acc_a_ft1, prec_a_ft1, rec_a_ft1, f1_a_ft1, cm_a_ft1 = mu.test_model(target_test_labels, yhat2)"
   ]
  },
  {
   "cell_type": "code",
   "execution_count": null,
   "id": "21e7720a-be4a-40bc-b87e-d27ae0e40f7a",
   "metadata": {},
   "outputs": [],
   "source": [
    "fpr2, tpr2, _ = roc_curve(target_test_labels, yhat_p2)\n",
    "auroc2 = auc(fpr2,tpr2)\n",
    "print(auroc2)"
   ]
  },
  {
   "cell_type": "markdown",
   "id": "d9f9987c-adad-455d-a630-7229f0410ca8",
   "metadata": {
    "tags": []
   },
   "source": [
    "## Fine Tuning 2"
   ]
  },
  {
   "cell_type": "code",
   "execution_count": null,
   "id": "f7138277-03d5-4409-afae-c0e4f133a231",
   "metadata": {},
   "outputs": [],
   "source": [
    "model_ft2 = os.path.join(MODEL_PATH, 'InceptionResNetV2_C_FT2.h5')"
   ]
  },
  {
   "cell_type": "code",
   "execution_count": null,
   "id": "ddb71a53-376a-409a-a45e-2ad50f1da92e",
   "metadata": {},
   "outputs": [],
   "source": [
    "model3 = load_model(model_ft2)"
   ]
  },
  {
   "cell_type": "code",
   "execution_count": null,
   "id": "2a20bd00-e1b9-4c82-b15b-a5a3271bdd52",
   "metadata": {},
   "outputs": [],
   "source": [
    "model3.summary()"
   ]
  },
  {
   "cell_type": "code",
   "execution_count": null,
   "id": "1ac2601d-ba58-4508-8a52-e00f29e85647",
   "metadata": {},
   "outputs": [],
   "source": [
    "#predict the probability across all output classes\n",
    "prob3 = model3.predict(x_test_in)\n",
    "yhat3 = (prob3 > 0.5).astype('int')\n",
    "yhat_p3 = prob3[:, prob3.shape[1]-1]"
   ]
  },
  {
   "cell_type": "code",
   "execution_count": null,
   "id": "6d20f026-b13c-4017-a0ec-94c788da4b65",
   "metadata": {},
   "outputs": [],
   "source": [
    "df_fe= mu.prob_csv(test_labels_enc, prob3, head_model='InceptionResNetV2_C_FT2')\n",
    "df_fe.head()"
   ]
  },
  {
   "cell_type": "code",
   "execution_count": null,
   "id": "8643c45c-ce14-4b25-aa4b-1d70efdc2081",
   "metadata": {},
   "outputs": [],
   "source": [
    "acc_a_ft2, prec_a_ft2, rec_a_ft2, f1_a_ft2, cm_a_ft2 = mu.test_model(target_test_labels, yhat3)"
   ]
  },
  {
   "cell_type": "code",
   "execution_count": null,
   "id": "aa5f9140-5504-4ae0-8ebe-e3136488c9e2",
   "metadata": {},
   "outputs": [],
   "source": [
    "fpr3, tpr3, _ = roc_curve(target_test_labels, yhat_p3)\n",
    "auroc3 = auc(fpr3,tpr3)\n",
    "print(auroc3)"
   ]
  },
  {
   "cell_type": "markdown",
   "id": "ecb296c9-98a2-495c-89a8-2ea033ca36a5",
   "metadata": {},
   "source": [
    "## FIne Tuning 3"
   ]
  },
  {
   "cell_type": "code",
   "execution_count": null,
   "id": "917bbd2c-bb56-4e2a-814f-358da8c40908",
   "metadata": {},
   "outputs": [],
   "source": [
    "model_ft3 = os.path.join(MODEL_PATH, 'InceptionResNetV2_C_FT3.h5')"
   ]
  },
  {
   "cell_type": "code",
   "execution_count": null,
   "id": "1419e2d5-67f8-4c7f-9e71-a2421ac8d201",
   "metadata": {},
   "outputs": [],
   "source": [
    "model4 = load_model(model_ft3)"
   ]
  },
  {
   "cell_type": "code",
   "execution_count": null,
   "id": "53b3e10f-b060-466b-a3eb-2422c916862c",
   "metadata": {},
   "outputs": [],
   "source": [
    "model4.summary()"
   ]
  },
  {
   "cell_type": "code",
   "execution_count": null,
   "id": "3aa87e8c-3a57-4912-bad4-d3365508b09d",
   "metadata": {},
   "outputs": [],
   "source": [
    "#predict the probability across all output classes\n",
    "prob4 = model4.predict(x_test_in)\n",
    "yhat4 = (prob4 > 0.5).astype('int')\n",
    "yhat_p4 = prob4[:, prob4.shape[1]-1]"
   ]
  },
  {
   "cell_type": "code",
   "execution_count": null,
   "id": "f160526c-94cb-43b1-9a64-7a5534e9db6d",
   "metadata": {},
   "outputs": [],
   "source": [
    "df_fe= mu.prob_csv(test_labels_enc, prob4, head_model='InceptionResNetV2_C_FT3')\n",
    "df_fe.head()"
   ]
  },
  {
   "cell_type": "code",
   "execution_count": null,
   "id": "e38fa477-789f-4238-b6e0-a1659ba81a78",
   "metadata": {},
   "outputs": [],
   "source": [
    "acc_a_ft3, prec_a_ft3, rec_a_ft3, f1_a_ft3, cm_a_ft3 = mu.test_model(target_test_labels, yhat4)"
   ]
  },
  {
   "cell_type": "code",
   "execution_count": null,
   "id": "60601e8e-fdc4-43fd-8df6-e8c5a42e2651",
   "metadata": {},
   "outputs": [],
   "source": [
    "fpr4, tpr4, _ = roc_curve(target_test_labels, yhat_p4)\n",
    "auroc4 = auc(fpr4,tpr4)\n",
    "print(auroc4)"
   ]
  },
  {
   "cell_type": "code",
   "execution_count": null,
   "id": "81167779-154d-46af-9865-d2a44bb7c4a7",
   "metadata": {},
   "outputs": [],
   "source": [
    "plt.style.use(\"seaborn\")\n",
    "\n",
    "lw = 1.5\n",
    "\n",
    "plt.plot(fpr1, tpr1, color='blue', lw = lw, label='FE (area = %0.4f)' % auroc1)\n",
    "plt.plot(fpr2, tpr2, color='green', lw = lw, label='FT1 (area = %0.4f)' % auroc2)\n",
    "plt.plot(fpr3, tpr3, color='orange', lw = lw, label='FT2 (area = %0.4f)' % auroc3)\n",
    "plt.plot(fpr4, tpr4, color='crimson', lw = lw, label='FT3 (area = %0.4f)' % auroc4)\n",
    "plt.plot([0, 1], [0, 1], color='navy', lw=lw, linestyle='--')\n",
    "plt.xlim([0.0, 1.0])\n",
    "plt.ylim([0.0, 1.05])\n",
    "plt.xlabel('False Positive Rate')\n",
    "plt.ylabel('True Positive Rate')\n",
    "plt.title('Comparison of InceptionResNetV2 C Performance')\n",
    "plt.legend(loc=\"lower right\")\n",
    "plt.show()"
   ]
  },
  {
   "cell_type": "code",
   "execution_count": null,
   "id": "c8ea9815-47fe-4c9a-b2c0-0c450364a055",
   "metadata": {},
   "outputs": [],
   "source": []
  }
 ],
 "metadata": {
  "kernelspec": {
   "display_name": "GPU",
   "language": "python",
   "name": "gpu"
  },
  "language_info": {
   "codemirror_mode": {
    "name": "ipython",
    "version": 3
   },
   "file_extension": ".py",
   "mimetype": "text/x-python",
   "name": "python",
   "nbconvert_exporter": "python",
   "pygments_lexer": "ipython3",
   "version": "3.8.12"
  }
 },
 "nbformat": 4,
 "nbformat_minor": 5
}
